{
  "cells": [
    {
      "cell_type": "markdown",
      "metadata": {
        "id": "1OFrSm2z-VaW"
      },
      "source": [
        "# Installation des bibliothèque necessaires"
      ]
    },
    {
      "cell_type": "code",
      "execution_count": 4,
      "metadata": {
        "colab": {
          "base_uri": "https://localhost:8080/"
        },
        "id": "2smmf06B-eGu",
        "outputId": "66b0129d-42bf-47cb-bba8-ba1fc105575b"
      },
      "outputs": [
        {
          "name": "stdout",
          "output_type": "stream",
          "text": [
            "Requirement already satisfied: textblob_fr in d:\\datascience\\data_analyst\\analysis_sentiment_texblob\\myenv\\lib\\site-packages (0.2.0)\n",
            "Requirement already satisfied: textblob>=0.8.0 in d:\\datascience\\data_analyst\\analysis_sentiment_texblob\\myenv\\lib\\site-packages (from textblob_fr) (0.18.0.post0)\n",
            "Requirement already satisfied: nltk>=3.8 in d:\\datascience\\data_analyst\\analysis_sentiment_texblob\\myenv\\lib\\site-packages (from textblob>=0.8.0->textblob_fr) (3.9.1)\n",
            "Requirement already satisfied: click in d:\\datascience\\data_analyst\\analysis_sentiment_texblob\\myenv\\lib\\site-packages (from nltk>=3.8->textblob>=0.8.0->textblob_fr) (8.1.7)\n",
            "Requirement already satisfied: joblib in d:\\datascience\\data_analyst\\analysis_sentiment_texblob\\myenv\\lib\\site-packages (from nltk>=3.8->textblob>=0.8.0->textblob_fr) (1.4.2)\n",
            "Requirement already satisfied: regex>=2021.8.3 in d:\\datascience\\data_analyst\\analysis_sentiment_texblob\\myenv\\lib\\site-packages (from nltk>=3.8->textblob>=0.8.0->textblob_fr) (2024.7.24)\n",
            "Requirement already satisfied: tqdm in d:\\datascience\\data_analyst\\analysis_sentiment_texblob\\myenv\\lib\\site-packages (from nltk>=3.8->textblob>=0.8.0->textblob_fr) (4.66.5)\n",
            "Requirement already satisfied: colorama in d:\\datascience\\data_analyst\\analysis_sentiment_texblob\\myenv\\lib\\site-packages (from click->nltk>=3.8->textblob>=0.8.0->textblob_fr) (0.4.6)\n"
          ]
        },
        {
          "name": "stderr",
          "output_type": "stream",
          "text": [
            "\n",
            "[notice] A new release of pip is available: 23.2.1 -> 24.2\n",
            "[notice] To update, run: python.exe -m pip install --upgrade pip\n"
          ]
        }
      ],
      "source": [
        "! pip install textblob_fr"
      ]
    },
    {
      "cell_type": "markdown",
      "metadata": {
        "id": "KZDX_a_YSA2q"
      },
      "source": [
        "# Importation des bibliothèques necessaires\n"
      ]
    },
    {
      "cell_type": "code",
      "execution_count": 29,
      "metadata": {
        "id": "5B24Ebuk-JIz"
      },
      "outputs": [],
      "source": [
        "import pandas as pd\n",
        "from nltk.tokenize import sent_tokenize\n",
        "from nltk.tokenize import word_tokenize\n",
        "import re\n",
        "import string\n",
        "from textblob import Blobber\n",
        "from textblob_fr import PatternTagger, PatternAnalyzer\n",
        "tb = Blobber(pos_tagger=PatternTagger(), analyzer=PatternAnalyzer())\n",
        "import plotly.graph_objects as go\n",
        "import plotly.express as px"
      ]
    },
    {
      "cell_type": "code",
      "execution_count": 30,
      "metadata": {},
      "outputs": [],
      "source": [
        "import spacy\n",
        "from spacy.lang.fr.stop_words import STOP_WORDS"
      ]
    },
    {
      "cell_type": "markdown",
      "metadata": {
        "id": "RP37V2y7Sf-V"
      },
      "source": [
        "# Chargement de la dataset\n"
      ]
    },
    {
      "cell_type": "code",
      "execution_count": 31,
      "metadata": {
        "colab": {
          "base_uri": "https://localhost:8080/",
          "height": 226
        },
        "id": "0bIVAtRPSjon",
        "outputId": "1cdeb9ef-f789-46c8-944d-80593f1c2fa9"
      },
      "outputs": [
        {
          "data": {
            "text/html": [
              "<div>\n",
              "<style scoped>\n",
              "    .dataframe tbody tr th:only-of-type {\n",
              "        vertical-align: middle;\n",
              "    }\n",
              "\n",
              "    .dataframe tbody tr th {\n",
              "        vertical-align: top;\n",
              "    }\n",
              "\n",
              "    .dataframe thead th {\n",
              "        text-align: right;\n",
              "    }\n",
              "</style>\n",
              "<table border=\"1\" class=\"dataframe\">\n",
              "  <thead>\n",
              "    <tr style=\"text-align: right;\">\n",
              "      <th></th>\n",
              "      <th>Unnamed: 0</th>\n",
              "      <th>Name</th>\n",
              "      <th>Comment</th>\n",
              "      <th>Month</th>\n",
              "      <th>Year</th>\n",
              "    </tr>\n",
              "  </thead>\n",
              "  <tbody>\n",
              "    <tr>\n",
              "      <th>0</th>\n",
              "      <td>0</td>\n",
              "      <td>Réassurez-moi</td>\n",
              "      <td>Ravi ! La recherche et la comparaison des mutu...</td>\n",
              "      <td>8</td>\n",
              "      <td>2019</td>\n",
              "    </tr>\n",
              "    <tr>\n",
              "      <th>1</th>\n",
              "      <td>1</td>\n",
              "      <td>Réassurez-moi</td>\n",
              "      <td>Très satisfaite ! Un conseiller à l'écoute et ...</td>\n",
              "      <td>8</td>\n",
              "      <td>2019</td>\n",
              "    </tr>\n",
              "    <tr>\n",
              "      <th>2</th>\n",
              "      <td>2</td>\n",
              "      <td>Réassurez-moi</td>\n",
              "      <td>Je vous avais contacté pour la mise en place e...</td>\n",
              "      <td>8</td>\n",
              "      <td>2019</td>\n",
              "    </tr>\n",
              "    <tr>\n",
              "      <th>3</th>\n",
              "      <td>3</td>\n",
              "      <td>Réassurez-moi</td>\n",
              "      <td>Quelques mots sur Réassurez-moi. Je suis très ...</td>\n",
              "      <td>8</td>\n",
              "      <td>2019</td>\n",
              "    </tr>\n",
              "    <tr>\n",
              "      <th>4</th>\n",
              "      <td>4</td>\n",
              "      <td>Réassurez-moi</td>\n",
              "      <td>Votre cabinet m'a permis de pouvoir bénéficier...</td>\n",
              "      <td>8</td>\n",
              "      <td>2019</td>\n",
              "    </tr>\n",
              "  </tbody>\n",
              "</table>\n",
              "</div>"
            ],
            "text/plain": [
              "   Unnamed: 0           Name  \\\n",
              "0           0  Réassurez-moi   \n",
              "1           1  Réassurez-moi   \n",
              "2           2  Réassurez-moi   \n",
              "3           3  Réassurez-moi   \n",
              "4           4  Réassurez-moi   \n",
              "\n",
              "                                             Comment  Month  Year  \n",
              "0  Ravi ! La recherche et la comparaison des mutu...      8  2019  \n",
              "1  Très satisfaite ! Un conseiller à l'écoute et ...      8  2019  \n",
              "2  Je vous avais contacté pour la mise en place e...      8  2019  \n",
              "3  Quelques mots sur Réassurez-moi. Je suis très ...      8  2019  \n",
              "4  Votre cabinet m'a permis de pouvoir bénéficier...      8  2019  "
            ]
          },
          "execution_count": 31,
          "metadata": {},
          "output_type": "execute_result"
        }
      ],
      "source": [
        "data = pd.read_csv('Comments.csv')\n",
        "data.head()"
      ]
    },
    {
      "cell_type": "markdown",
      "metadata": {
        "id": "71AyCF3EY5ae"
      },
      "source": [
        "# Nettoyage des données\n"
      ]
    },
    {
      "cell_type": "code",
      "execution_count": 32,
      "metadata": {
        "id": "m9k9QexReFfF"
      },
      "outputs": [],
      "source": [
        "# Suppression de la colonne\n",
        "data= data.drop(['Unnamed: 0'],axis=1)"
      ]
    },
    {
      "cell_type": "code",
      "execution_count": 33,
      "metadata": {
        "id": "zdt6J469fdIN"
      },
      "outputs": [],
      "source": [
        "# Conversion des commentaires en minuscule\n",
        "data[\"Comment\"]= data[\"Comment\"].str.lower()"
      ]
    },
    {
      "cell_type": "code",
      "execution_count": 34,
      "metadata": {
        "colab": {
          "base_uri": "https://localhost:8080/"
        },
        "id": "YhNSwcmxZbm2",
        "outputId": "ba27bc6f-4c66-4b68-f3dd-fc6a15ff2f85"
      },
      "outputs": [
        {
          "name": "stdout",
          "output_type": "stream",
          "text": [
            "Nombre de lignes avant suppression des doublons : 11017\n"
          ]
        }
      ],
      "source": [
        "# Nombre de ligne avant suppression des lignes avec commentaire vide\n",
        "before_cleanup = len(data)\n",
        "print(f'Nombre de lignes avant suppression des doublons : {before_cleanup}')\n"
      ]
    },
    {
      "cell_type": "code",
      "execution_count": 36,
      "metadata": {
        "colab": {
          "base_uri": "https://localhost:8080/"
        },
        "id": "bKUkovR5Y-o3",
        "outputId": "7f04a3ae-f129-4522-8576-ce9c786f194c"
      },
      "outputs": [
        {
          "name": "stdout",
          "output_type": "stream",
          "text": [
            "Name        0\n",
            "Comment    16\n",
            "Month       0\n",
            "Year        0\n",
            "dtype: int64\n"
          ]
        }
      ],
      "source": [
        "# Nombre de valeur nulle par colonne\n",
        "null_counts = data.isnull().sum()\n",
        "\n",
        "print(null_counts)"
      ]
    },
    {
      "cell_type": "code",
      "execution_count": 37,
      "metadata": {
        "id": "qaBLYo1haMp7"
      },
      "outputs": [],
      "source": [
        "# Suppression des lignes contenant des commentaires vides\n",
        "data_initial = data.copy()\n",
        "data.dropna(subset=['Comment'], inplace=True)"
      ]
    },
    {
      "cell_type": "code",
      "execution_count": 38,
      "metadata": {
        "colab": {
          "base_uri": "https://localhost:8080/"
        },
        "id": "p33bBtN7ajd8",
        "outputId": "0a05cf9d-25c0-41e7-e308-3aed2d917c41"
      },
      "outputs": [
        {
          "name": "stdout",
          "output_type": "stream",
          "text": [
            "Nombre de lignes avant suppression des doublons : 11001\n"
          ]
        }
      ],
      "source": [
        "# Nombre de ligne après suppression des lignes avec commentaire vide\n",
        "after_cleanup = len(data)\n",
        "print(f'Nombre de lignes avant suppression des doublons : {after_cleanup}')"
      ]
    },
    {
      "cell_type": "markdown",
      "metadata": {
        "id": "7whmxLWHT1oB"
      },
      "source": [
        "# Visualisation importante avant la classification des commentaires\n"
      ]
    },
    {
      "cell_type": "code",
      "execution_count": 39,
      "metadata": {
        "id": "gOXAQE5YVqjy"
      },
      "outputs": [],
      "source": [
        "import matplotlib.pyplot as plt\n",
        "import seaborn as sns\n"
      ]
    },
    {
      "cell_type": "markdown",
      "metadata": {
        "id": "x7pSKUnnUPCG"
      },
      "source": [
        "## Nombre de commentaire par année\n"
      ]
    },
    {
      "cell_type": "code",
      "execution_count": 40,
      "metadata": {
        "colab": {
          "base_uri": "https://localhost:8080/"
        },
        "id": "TJHlHmNAUICD",
        "outputId": "2a40f139-f750-4126-b0ec-26036c662389"
      },
      "outputs": [
        {
          "name": "stdout",
          "output_type": "stream",
          "text": [
            "    Year  comment_number\n",
            "0   2008              40\n",
            "1   2009             461\n",
            "2   2010             516\n",
            "3   2011             425\n",
            "4   2012             973\n",
            "5   2013             868\n",
            "6   2014             717\n",
            "7   2015             642\n",
            "8   2016            1365\n",
            "9   2017            1146\n",
            "10  2018            1594\n",
            "11  2019            1761\n",
            "12  2020             493\n"
          ]
        }
      ],
      "source": [
        "comment_count_per_year = data.groupby('Year').size().reset_index(name='comment_number')\n",
        "print(comment_count_per_year)"
      ]
    },
    {
      "cell_type": "code",
      "execution_count": 42,
      "metadata": {
        "colab": {
          "base_uri": "https://localhost:8080/",
          "height": 692
        },
        "id": "P931fDs0VMAX",
        "outputId": "f46da06d-2a8d-41ae-b8e9-ca7d1f094760"
      },
      "outputs": [
        {
          "name": "stderr",
          "output_type": "stream",
          "text": [
            "C:\\Users\\ROYAL COMPUTER\\AppData\\Local\\Temp\\ipykernel_20104\\1757401144.py:6: FutureWarning:\n",
            "\n",
            "\n",
            "\n",
            "Passing `palette` without assigning `hue` is deprecated and will be removed in v0.14.0. Assign the `x` variable to `hue` and set `legend=False` for the same effect.\n",
            "\n",
            "\n"
          ]
        },
        {
          "data": {
            "image/png": "[encoded data removed]",
            "text/plain": [
              "<Figure size 1200x600 with 1 Axes>"
            ]
          },
          "metadata": {},
          "output_type": "display_data"
        }
      ],
      "source": [
        "\n",
        "# Création de palette de couleurs variée basée sur le nombre unique d'année'\n",
        "palette = sns.color_palette('husl', len(data['Year'].unique()))\n",
        "\n",
        "# Création du graphique de distribution de nombre de commentaire par année\n",
        "plt.figure(figsize=(12, 6))\n",
        "ax = sns.countplot(data=data, x='Year', palette=palette)\n",
        "\n",
        "# Ajout des annotations pour les effectifs sur chaque barre\n",
        "for p in ax.patches:\n",
        "    ax.annotate(f'{int(p.get_height())}',\n",
        "                (p.get_x() + p.get_width() / 2., p.get_height()),\n",
        "                ha='center', va='baseline',\n",
        "                fontsize=11, color='black', xytext=(0, 5),\n",
        "                textcoords='offset points')\n",
        "\n",
        "# Configuration du titre et la rotation des étiquettes de l'axe des x\n",
        "plt.title('Nombre des commentaires par année')\n",
        "plt.xticks(rotation=45)\n",
        "\n",
        "# Ajout des étiquettes pour les axes X et Y\n",
        "plt.xlabel('Année')\n",
        "plt.ylabel('Nombre de commentaire par année')\n",
        "\n",
        "plt.xticks(rotation=45)\n",
        "plt.show()\n"
      ]
    },
    {
      "cell_type": "markdown",
      "metadata": {
        "id": "9VqqA5yoxXhF"
      },
      "source": [
        "## Nombre de commentaire par insurance"
      ]
    },
    {
      "cell_type": "code",
      "execution_count": 43,
      "metadata": {
        "colab": {
          "base_uri": "https://localhost:8080/"
        },
        "id": "V8medRVXx0PP",
        "outputId": "d3d9aef2-ace5-4354-f6cb-d68207ea201f"
      },
      "outputs": [
        {
          "name": "stdout",
          "output_type": "stream",
          "text": [
            "                   Name  comment_number\n",
            "0                7assur              72\n",
            "1        Adrea Mutuelle             110\n",
            "2      Ag2r La Mondiale             357\n",
            "3               Allianz             264\n",
            "4                Alptis             437\n",
            "5                Apicil             246\n",
            "6                 April             380\n",
            "7                Apréva              69\n",
            "8                 Assor             149\n",
            "9                 Aviva             161\n",
            "10                  Axa             227\n",
            "11                  CIC              60\n",
            "12               Cardif              63\n",
            "13    Cegema Assurances             136\n",
            "14        Crédit Mutuel             115\n",
            "15       Eca Assurances             294\n",
            "16             Eovi Mcd             128\n",
            "17                  Gan              74\n",
            "18             Generali             277\n",
            "19          Gras Savoye             165\n",
            "20             Groupama             238\n",
            "21        Groupe Henner             129\n",
            "22           Génération             110\n",
            "23   Harmonie Mutuelles             434\n",
            "24   Identités Mutuelle              61\n",
            "25            Intériale             299\n",
            "26               La MGP              61\n",
            "27                  MGS              89\n",
            "28                 Maaf             217\n",
            "29                Macif             143\n",
            "30     Malakoff Médéric             575\n",
            "31               Mercer             108\n",
            "32                  Mgc              65\n",
            "33                 Mgen             377\n",
            "34        Miel Mutuelle              79\n",
            "35                  Mma             174\n",
            "36                  Mnh              98\n",
            "37                  Mnt             148\n",
            "38             Mutualia             148\n",
            "39   Mutuelle Familiale              65\n",
            "40    Mutuelle Générale             196\n",
            "41  Mutuelle Mieux etre              69\n",
            "42         Mutuelle UMC              77\n",
            "43      Néoliane Santé             1001\n",
            "44             Pacifica             216\n",
            "45               Probtp             115\n",
            "46      Ritchaard Sante             159\n",
            "47        Réassurez-moi              60\n",
            "48             Santiane             674\n",
            "49                 Smam              64\n",
            "50               Smatis              81\n",
            "51                  Smi              60\n",
            "52           Solly Azar              61\n",
            "53            SwissLife             486\n",
            "54                 Uneo             184\n",
            "55           Verspieren              96\n"
          ]
        }
      ],
      "source": [
        "comment_count_per_insurance= data.groupby('Name').size().reset_index(name='comment_number')\n",
        "print(comment_count_per_insurance)"
      ]
    },
    {
      "cell_type": "markdown",
      "metadata": {
        "id": "ksfMExd2f2mA"
      },
      "source": [
        "# Traitement des données\n"
      ]
    },
    {
      "cell_type": "code",
      "execution_count": 45,
      "metadata": {
        "colab": {
          "base_uri": "https://localhost:8080/",
          "height": 226
        },
        "id": "TyazsN6Sf6v6",
        "outputId": "bf3e98eb-d63a-4a55-c17e-616d55288a5e"
      },
      "outputs": [
        {
          "name": "stderr",
          "output_type": "stream",
          "text": [
            "<>:7: SyntaxWarning:\n",
            "\n",
            "invalid escape sequence '\\W'\n",
            "\n",
            "<>:7: SyntaxWarning:\n",
            "\n",
            "invalid escape sequence '\\W'\n",
            "\n",
            "C:\\Users\\ROYAL COMPUTER\\AppData\\Local\\Temp\\ipykernel_20104\\1763655725.py:7: SyntaxWarning:\n",
            "\n",
            "invalid escape sequence '\\W'\n",
            "\n"
          ]
        },
        {
          "data": {
            "text/html": [
              "<div>\n",
              "<style scoped>\n",
              "    .dataframe tbody tr th:only-of-type {\n",
              "        vertical-align: middle;\n",
              "    }\n",
              "\n",
              "    .dataframe tbody tr th {\n",
              "        vertical-align: top;\n",
              "    }\n",
              "\n",
              "    .dataframe thead th {\n",
              "        text-align: right;\n",
              "    }\n",
              "</style>\n",
              "<table border=\"1\" class=\"dataframe\">\n",
              "  <thead>\n",
              "    <tr style=\"text-align: right;\">\n",
              "      <th></th>\n",
              "      <th>Name</th>\n",
              "      <th>Comment</th>\n",
              "      <th>Month</th>\n",
              "      <th>Year</th>\n",
              "      <th>Word_Tok</th>\n",
              "    </tr>\n",
              "  </thead>\n",
              "  <tbody>\n",
              "    <tr>\n",
              "      <th>0</th>\n",
              "      <td>Réassurez-moi</td>\n",
              "      <td>ravi ! la recherche et la comparaison des mutu...</td>\n",
              "      <td>8</td>\n",
              "      <td>2019</td>\n",
              "      <td>[ravi, la, recherche, et, la, comparaison, des...</td>\n",
              "    </tr>\n",
              "    <tr>\n",
              "      <th>1</th>\n",
              "      <td>Réassurez-moi</td>\n",
              "      <td>très satisfaite ! un conseiller à l'écoute et ...</td>\n",
              "      <td>8</td>\n",
              "      <td>2019</td>\n",
              "      <td>[très, satisfaite, un, conseiller, à, l, écout...</td>\n",
              "    </tr>\n",
              "    <tr>\n",
              "      <th>2</th>\n",
              "      <td>Réassurez-moi</td>\n",
              "      <td>je vous avais contacté pour la mise en place e...</td>\n",
              "      <td>8</td>\n",
              "      <td>2019</td>\n",
              "      <td>[je, vous, avais, contacté, pour, la, mise, en...</td>\n",
              "    </tr>\n",
              "    <tr>\n",
              "      <th>3</th>\n",
              "      <td>Réassurez-moi</td>\n",
              "      <td>quelques mots sur réassurez-moi. je suis très ...</td>\n",
              "      <td>8</td>\n",
              "      <td>2019</td>\n",
              "      <td>[quelques, mots, sur, réassurez, moi, je, suis...</td>\n",
              "    </tr>\n",
              "    <tr>\n",
              "      <th>4</th>\n",
              "      <td>Réassurez-moi</td>\n",
              "      <td>votre cabinet m'a permis de pouvoir bénéficier...</td>\n",
              "      <td>8</td>\n",
              "      <td>2019</td>\n",
              "      <td>[votre, cabinet, m, a, permis, de, pouvoir, bé...</td>\n",
              "    </tr>\n",
              "  </tbody>\n",
              "</table>\n",
              "</div>"
            ],
            "text/plain": [
              "            Name                                            Comment  Month  \\\n",
              "0  Réassurez-moi  ravi ! la recherche et la comparaison des mutu...      8   \n",
              "1  Réassurez-moi  très satisfaite ! un conseiller à l'écoute et ...      8   \n",
              "2  Réassurez-moi  je vous avais contacté pour la mise en place e...      8   \n",
              "3  Réassurez-moi  quelques mots sur réassurez-moi. je suis très ...      8   \n",
              "4  Réassurez-moi  votre cabinet m'a permis de pouvoir bénéficier...      8   \n",
              "\n",
              "   Year                                           Word_Tok  \n",
              "0  2019  [ravi, la, recherche, et, la, comparaison, des...  \n",
              "1  2019  [très, satisfaite, un, conseiller, à, l, écout...  \n",
              "2  2019  [je, vous, avais, contacté, pour, la, mise, en...  \n",
              "3  2019  [quelques, mots, sur, réassurez, moi, je, suis...  \n",
              "4  2019  [votre, cabinet, m, a, permis, de, pouvoir, bé...  "
            ]
          },
          "execution_count": 45,
          "metadata": {},
          "output_type": "execute_result"
        }
      ],
      "source": [
        "# Tokenisation des commentaires et Suppression des ponctuations\n",
        "\n",
        "\n",
        "AComment=[]\n",
        "for comment in data[\"Comment\"].apply(str):\n",
        "    Word_Tok = []\n",
        "    for word in  re.sub(\"\\W\",\" \",comment ).split():\n",
        "        Word_Tok.append(word)\n",
        "    AComment.append(Word_Tok)\n",
        "\n",
        "# Ajout d'une colonne pour contenir le résultat de la tokénisation\n",
        "data[\"Word_Tok\"]= AComment\n",
        "data.head()\n"
      ]
    },
    {
      "cell_type": "code",
      "execution_count": 46,
      "metadata": {
        "id": "iERFfx_j6SW4"
      },
      "outputs": [],
      "source": [
        "# Suppression des mots vides à ne pas inclure dans le mots vides par defaut de spacy\n",
        "\n",
        "stop_words=set(STOP_WORDS)\n",
        "\n",
        "deselect_stop_words = ['n\\'', 'ne','pas','plus','personne','aucun','ni','aucune','rien']\n",
        "for w in deselect_stop_words:\n",
        "    if w in stop_words:\n",
        "        stop_words.remove(w)\n",
        "    else:\n",
        "        continue\n",
        "\n"
      ]
    },
    {
      "cell_type": "code",
      "execution_count": 47,
      "metadata": {
        "id": "hnmAMB2V7-4Z"
      },
      "outputs": [],
      "source": [
        "# Application de la suppression dans les commentaires préablement tokenisés\n",
        "\n",
        "AllfilteredComment=[]\n",
        "for comment in data[\"Word_Tok\"]:\n",
        "    filteredComment = [w for w in comment if not ((w in stop_words) or (len(w) == 1))]\n",
        "    AllfilteredComment.append(' '.join(filteredComment))\n",
        "\n"
      ]
    },
    {
      "cell_type": "code",
      "execution_count": 48,
      "metadata": {
        "colab": {
          "base_uri": "https://localhost:8080/",
          "height": 226
        },
        "id": "y7Q5YS4Y8ng5",
        "outputId": "6e058161-4d37-4034-a45a-a137d133cae5"
      },
      "outputs": [
        {
          "data": {
            "text/html": [
              "<div>\n",
              "<style scoped>\n",
              "    .dataframe tbody tr th:only-of-type {\n",
              "        vertical-align: middle;\n",
              "    }\n",
              "\n",
              "    .dataframe tbody tr th {\n",
              "        vertical-align: top;\n",
              "    }\n",
              "\n",
              "    .dataframe thead th {\n",
              "        text-align: right;\n",
              "    }\n",
              "</style>\n",
              "<table border=\"1\" class=\"dataframe\">\n",
              "  <thead>\n",
              "    <tr style=\"text-align: right;\">\n",
              "      <th></th>\n",
              "      <th>Name</th>\n",
              "      <th>Comment</th>\n",
              "      <th>Month</th>\n",
              "      <th>Year</th>\n",
              "      <th>Word_Tok</th>\n",
              "      <th>CommentAferPreproc</th>\n",
              "    </tr>\n",
              "  </thead>\n",
              "  <tbody>\n",
              "    <tr>\n",
              "      <th>0</th>\n",
              "      <td>Réassurez-moi</td>\n",
              "      <td>ravi ! la recherche et la comparaison des mutu...</td>\n",
              "      <td>8</td>\n",
              "      <td>2019</td>\n",
              "      <td>[ravi, la, recherche, et, la, comparaison, des...</td>\n",
              "      <td>ravi recherche comparaison mutuelles simples r...</td>\n",
              "    </tr>\n",
              "    <tr>\n",
              "      <th>1</th>\n",
              "      <td>Réassurez-moi</td>\n",
              "      <td>très satisfaite ! un conseiller à l'écoute et ...</td>\n",
              "      <td>8</td>\n",
              "      <td>2019</td>\n",
              "      <td>[très, satisfaite, un, conseiller, à, l, écout...</td>\n",
              "      <td>satisfaite conseiller écoute sympathique bon p...</td>\n",
              "    </tr>\n",
              "    <tr>\n",
              "      <th>2</th>\n",
              "      <td>Réassurez-moi</td>\n",
              "      <td>je vous avais contacté pour la mise en place e...</td>\n",
              "      <td>8</td>\n",
              "      <td>2019</td>\n",
              "      <td>[je, vous, avais, contacté, pour, la, mise, en...</td>\n",
              "      <td>contacté mise place janvier dernier contrat mu...</td>\n",
              "    </tr>\n",
              "    <tr>\n",
              "      <th>3</th>\n",
              "      <td>Réassurez-moi</td>\n",
              "      <td>quelques mots sur réassurez-moi. je suis très ...</td>\n",
              "      <td>8</td>\n",
              "      <td>2019</td>\n",
              "      <td>[quelques, mots, sur, réassurez, moi, je, suis...</td>\n",
              "      <td>mots réassurez satisfait services cabinet trou...</td>\n",
              "    </tr>\n",
              "    <tr>\n",
              "      <th>4</th>\n",
              "      <td>Réassurez-moi</td>\n",
              "      <td>votre cabinet m'a permis de pouvoir bénéficier...</td>\n",
              "      <td>8</td>\n",
              "      <td>2019</td>\n",
              "      <td>[votre, cabinet, m, a, permis, de, pouvoir, bé...</td>\n",
              "      <td>cabinet permis pouvoir bénéficier contrat comp...</td>\n",
              "    </tr>\n",
              "  </tbody>\n",
              "</table>\n",
              "</div>"
            ],
            "text/plain": [
              "            Name                                            Comment  Month  \\\n",
              "0  Réassurez-moi  ravi ! la recherche et la comparaison des mutu...      8   \n",
              "1  Réassurez-moi  très satisfaite ! un conseiller à l'écoute et ...      8   \n",
              "2  Réassurez-moi  je vous avais contacté pour la mise en place e...      8   \n",
              "3  Réassurez-moi  quelques mots sur réassurez-moi. je suis très ...      8   \n",
              "4  Réassurez-moi  votre cabinet m'a permis de pouvoir bénéficier...      8   \n",
              "\n",
              "   Year                                           Word_Tok  \\\n",
              "0  2019  [ravi, la, recherche, et, la, comparaison, des...   \n",
              "1  2019  [très, satisfaite, un, conseiller, à, l, écout...   \n",
              "2  2019  [je, vous, avais, contacté, pour, la, mise, en...   \n",
              "3  2019  [quelques, mots, sur, réassurez, moi, je, suis...   \n",
              "4  2019  [votre, cabinet, m, a, permis, de, pouvoir, bé...   \n",
              "\n",
              "                                  CommentAferPreproc  \n",
              "0  ravi recherche comparaison mutuelles simples r...  \n",
              "1  satisfaite conseiller écoute sympathique bon p...  \n",
              "2  contacté mise place janvier dernier contrat mu...  \n",
              "3  mots réassurez satisfait services cabinet trou...  \n",
              "4  cabinet permis pouvoir bénéficier contrat comp...  "
            ]
          },
          "execution_count": 48,
          "metadata": {},
          "output_type": "execute_result"
        }
      ],
      "source": [
        "# Ajout de la colonne issues du filtrage\n",
        "data[\"CommentAferPreproc\"]=AllfilteredComment\n",
        "data.head()\n",
        "\n"
      ]
    },
    {
      "cell_type": "code",
      "execution_count": 49,
      "metadata": {
        "id": "EvYozKjG9AAB"
      },
      "outputs": [],
      "source": [
        "# Classification des commentaires par negative,positive ou neutre\n",
        "senti_list = []\n",
        "for i in data[\"CommentAferPreproc\"]:\n",
        "    vs = tb(i).sentiment[0]\n",
        "    if (vs > 0):\n",
        "        senti_list.append('Positive')\n",
        "    elif (vs < 0):\n",
        "        senti_list.append('Negative')\n",
        "    else:\n",
        "        senti_list.append('Neutral')\n",
        "\n"
      ]
    },
    {
      "cell_type": "code",
      "execution_count": 50,
      "metadata": {
        "colab": {
          "base_uri": "https://localhost:8080/",
          "height": 226
        },
        "id": "dN0BCvDQEcFv",
        "outputId": "0c238741-b3c9-4d6c-947e-d70fcb826800"
      },
      "outputs": [
        {
          "data": {
            "text/html": [
              "<div>\n",
              "<style scoped>\n",
              "    .dataframe tbody tr th:only-of-type {\n",
              "        vertical-align: middle;\n",
              "    }\n",
              "\n",
              "    .dataframe tbody tr th {\n",
              "        vertical-align: top;\n",
              "    }\n",
              "\n",
              "    .dataframe thead th {\n",
              "        text-align: right;\n",
              "    }\n",
              "</style>\n",
              "<table border=\"1\" class=\"dataframe\">\n",
              "  <thead>\n",
              "    <tr style=\"text-align: right;\">\n",
              "      <th></th>\n",
              "      <th>Name</th>\n",
              "      <th>Comment</th>\n",
              "      <th>Month</th>\n",
              "      <th>Year</th>\n",
              "      <th>Word_Tok</th>\n",
              "      <th>CommentAferPreproc</th>\n",
              "      <th>sentiment</th>\n",
              "    </tr>\n",
              "  </thead>\n",
              "  <tbody>\n",
              "    <tr>\n",
              "      <th>0</th>\n",
              "      <td>Réassurez-moi</td>\n",
              "      <td>ravi ! la recherche et la comparaison des mutu...</td>\n",
              "      <td>8</td>\n",
              "      <td>2019</td>\n",
              "      <td>[ravi, la, recherche, et, la, comparaison, des...</td>\n",
              "      <td>ravi recherche comparaison mutuelles simples r...</td>\n",
              "      <td>Positive</td>\n",
              "    </tr>\n",
              "    <tr>\n",
              "      <th>1</th>\n",
              "      <td>Réassurez-moi</td>\n",
              "      <td>très satisfaite ! un conseiller à l'écoute et ...</td>\n",
              "      <td>8</td>\n",
              "      <td>2019</td>\n",
              "      <td>[très, satisfaite, un, conseiller, à, l, écout...</td>\n",
              "      <td>satisfaite conseiller écoute sympathique bon p...</td>\n",
              "      <td>Positive</td>\n",
              "    </tr>\n",
              "    <tr>\n",
              "      <th>2</th>\n",
              "      <td>Réassurez-moi</td>\n",
              "      <td>je vous avais contacté pour la mise en place e...</td>\n",
              "      <td>8</td>\n",
              "      <td>2019</td>\n",
              "      <td>[je, vous, avais, contacté, pour, la, mise, en...</td>\n",
              "      <td>contacté mise place janvier dernier contrat mu...</td>\n",
              "      <td>Positive</td>\n",
              "    </tr>\n",
              "    <tr>\n",
              "      <th>3</th>\n",
              "      <td>Réassurez-moi</td>\n",
              "      <td>quelques mots sur réassurez-moi. je suis très ...</td>\n",
              "      <td>8</td>\n",
              "      <td>2019</td>\n",
              "      <td>[quelques, mots, sur, réassurez, moi, je, suis...</td>\n",
              "      <td>mots réassurez satisfait services cabinet trou...</td>\n",
              "      <td>Positive</td>\n",
              "    </tr>\n",
              "    <tr>\n",
              "      <th>4</th>\n",
              "      <td>Réassurez-moi</td>\n",
              "      <td>votre cabinet m'a permis de pouvoir bénéficier...</td>\n",
              "      <td>8</td>\n",
              "      <td>2019</td>\n",
              "      <td>[votre, cabinet, m, a, permis, de, pouvoir, bé...</td>\n",
              "      <td>cabinet permis pouvoir bénéficier contrat comp...</td>\n",
              "      <td>Positive</td>\n",
              "    </tr>\n",
              "  </tbody>\n",
              "</table>\n",
              "</div>"
            ],
            "text/plain": [
              "            Name                                            Comment  Month  \\\n",
              "0  Réassurez-moi  ravi ! la recherche et la comparaison des mutu...      8   \n",
              "1  Réassurez-moi  très satisfaite ! un conseiller à l'écoute et ...      8   \n",
              "2  Réassurez-moi  je vous avais contacté pour la mise en place e...      8   \n",
              "3  Réassurez-moi  quelques mots sur réassurez-moi. je suis très ...      8   \n",
              "4  Réassurez-moi  votre cabinet m'a permis de pouvoir bénéficier...      8   \n",
              "\n",
              "   Year                                           Word_Tok  \\\n",
              "0  2019  [ravi, la, recherche, et, la, comparaison, des...   \n",
              "1  2019  [très, satisfaite, un, conseiller, à, l, écout...   \n",
              "2  2019  [je, vous, avais, contacté, pour, la, mise, en...   \n",
              "3  2019  [quelques, mots, sur, réassurez, moi, je, suis...   \n",
              "4  2019  [votre, cabinet, m, a, permis, de, pouvoir, bé...   \n",
              "\n",
              "                                  CommentAferPreproc sentiment  \n",
              "0  ravi recherche comparaison mutuelles simples r...  Positive  \n",
              "1  satisfaite conseiller écoute sympathique bon p...  Positive  \n",
              "2  contacté mise place janvier dernier contrat mu...  Positive  \n",
              "3  mots réassurez satisfait services cabinet trou...  Positive  \n",
              "4  cabinet permis pouvoir bénéficier contrat comp...  Positive  "
            ]
          },
          "execution_count": 50,
          "metadata": {},
          "output_type": "execute_result"
        }
      ],
      "source": [
        "# Ajout de la colonne sentiment pour catégoriser tout les commentaires\n",
        "\n",
        "data[\"sentiment\"]=senti_list\n",
        "data.head()"
      ]
    },
    {
      "cell_type": "code",
      "execution_count": 52,
      "metadata": {},
      "outputs": [],
      "source": [
        "data.to_csv('Commentsentiment.csv', index=False)"
      ]
    },
    {
      "cell_type": "code",
      "execution_count": 54,
      "metadata": {
        "colab": {
          "base_uri": "https://localhost:8080/",
          "height": 562
        },
        "id": "1X1MaPRLFs6D",
        "outputId": "a7871fef-c341-4d60-d19f-079daa9339fd"
      },
      "outputs": [
        {
          "ename": "ValueError",
          "evalue": "Mime type rendering requires nbformat>=4.2.0 but it is not installed",
          "output_type": "error",
          "traceback": [
            "\u001b[1;31m---------------------------------------------------------------------------\u001b[0m",
            "\u001b[1;31mValueError\u001b[0m                                Traceback (most recent call last)",
            "Cell \u001b[1;32mIn[54], line 9\u001b[0m\n\u001b[0;32m      1\u001b[0m fig \u001b[38;5;241m=\u001b[39m px\u001b[38;5;241m.\u001b[39mhistogram(data, x\u001b[38;5;241m=\u001b[39m\u001b[38;5;124m\"\u001b[39m\u001b[38;5;124msentiment\u001b[39m\u001b[38;5;124m\"\u001b[39m,color\u001b[38;5;241m=\u001b[39m\u001b[38;5;124m\"\u001b[39m\u001b[38;5;124msentiment\u001b[39m\u001b[38;5;124m\"\u001b[39m)\n\u001b[0;32m      2\u001b[0m fig\u001b[38;5;241m.\u001b[39mupdate_layout(\n\u001b[0;32m      3\u001b[0m     title_text\u001b[38;5;241m=\u001b[39m\u001b[38;5;124m'\u001b[39m\u001b[38;5;124mSentiment of reviews\u001b[39m\u001b[38;5;124m'\u001b[39m,\n\u001b[0;32m      4\u001b[0m     xaxis_title_text\u001b[38;5;241m=\u001b[39m\u001b[38;5;124m'\u001b[39m\u001b[38;5;124mSentiment\u001b[39m\u001b[38;5;124m'\u001b[39m,\n\u001b[1;32m   (...)\u001b[0m\n\u001b[0;32m      7\u001b[0m     bargroupgap\u001b[38;5;241m=\u001b[39m\u001b[38;5;241m0.1\u001b[39m\n\u001b[0;32m      8\u001b[0m )\n\u001b[1;32m----> 9\u001b[0m \u001b[43mfig\u001b[49m\u001b[38;5;241;43m.\u001b[39;49m\u001b[43mshow\u001b[49m\u001b[43m(\u001b[49m\u001b[43m)\u001b[49m\n",
            "File \u001b[1;32md:\\Datascience\\Data_analyst\\analysis_sentiment_texblob\\myenv\\Lib\\site-packages\\plotly\\basedatatypes.py:3410\u001b[0m, in \u001b[0;36mBaseFigure.show\u001b[1;34m(self, *args, **kwargs)\u001b[0m\n\u001b[0;32m   3377\u001b[0m \u001b[38;5;250m\u001b[39m\u001b[38;5;124;03m\"\"\"\u001b[39;00m\n\u001b[0;32m   3378\u001b[0m \u001b[38;5;124;03mShow a figure using either the default renderer(s) or the renderer(s)\u001b[39;00m\n\u001b[0;32m   3379\u001b[0m \u001b[38;5;124;03mspecified by the renderer argument\u001b[39;00m\n\u001b[1;32m   (...)\u001b[0m\n\u001b[0;32m   3406\u001b[0m \u001b[38;5;124;03mNone\u001b[39;00m\n\u001b[0;32m   3407\u001b[0m \u001b[38;5;124;03m\"\"\"\u001b[39;00m\n\u001b[0;32m   3408\u001b[0m \u001b[38;5;28;01mimport\u001b[39;00m \u001b[38;5;21;01mplotly\u001b[39;00m\u001b[38;5;21;01m.\u001b[39;00m\u001b[38;5;21;01mio\u001b[39;00m \u001b[38;5;28;01mas\u001b[39;00m \u001b[38;5;21;01mpio\u001b[39;00m\n\u001b[1;32m-> 3410\u001b[0m \u001b[38;5;28;01mreturn\u001b[39;00m \u001b[43mpio\u001b[49m\u001b[38;5;241;43m.\u001b[39;49m\u001b[43mshow\u001b[49m\u001b[43m(\u001b[49m\u001b[38;5;28;43mself\u001b[39;49m\u001b[43m,\u001b[49m\u001b[43m \u001b[49m\u001b[38;5;241;43m*\u001b[39;49m\u001b[43margs\u001b[49m\u001b[43m,\u001b[49m\u001b[43m \u001b[49m\u001b[38;5;241;43m*\u001b[39;49m\u001b[38;5;241;43m*\u001b[39;49m\u001b[43mkwargs\u001b[49m\u001b[43m)\u001b[49m\n",
            "File \u001b[1;32md:\\Datascience\\Data_analyst\\analysis_sentiment_texblob\\myenv\\Lib\\site-packages\\plotly\\io\\_renderers.py:394\u001b[0m, in \u001b[0;36mshow\u001b[1;34m(fig, renderer, validate, **kwargs)\u001b[0m\n\u001b[0;32m    389\u001b[0m         \u001b[38;5;28;01mraise\u001b[39;00m \u001b[38;5;167;01mValueError\u001b[39;00m(\n\u001b[0;32m    390\u001b[0m             \u001b[38;5;124m\"\u001b[39m\u001b[38;5;124mMime type rendering requires ipython but it is not installed\u001b[39m\u001b[38;5;124m\"\u001b[39m\n\u001b[0;32m    391\u001b[0m         )\n\u001b[0;32m    393\u001b[0m     \u001b[38;5;28;01mif\u001b[39;00m \u001b[38;5;129;01mnot\u001b[39;00m nbformat \u001b[38;5;129;01mor\u001b[39;00m Version(nbformat\u001b[38;5;241m.\u001b[39m__version__) \u001b[38;5;241m<\u001b[39m Version(\u001b[38;5;124m\"\u001b[39m\u001b[38;5;124m4.2.0\u001b[39m\u001b[38;5;124m\"\u001b[39m):\n\u001b[1;32m--> 394\u001b[0m         \u001b[38;5;28;01mraise\u001b[39;00m \u001b[38;5;167;01mValueError\u001b[39;00m(\n\u001b[0;32m    395\u001b[0m             \u001b[38;5;124m\"\u001b[39m\u001b[38;5;124mMime type rendering requires nbformat>=4.2.0 but it is not installed\u001b[39m\u001b[38;5;124m\"\u001b[39m\n\u001b[0;32m    396\u001b[0m         )\n\u001b[0;32m    398\u001b[0m     ipython_display\u001b[38;5;241m.\u001b[39mdisplay(bundle, raw\u001b[38;5;241m=\u001b[39m\u001b[38;5;28;01mTrue\u001b[39;00m)\n\u001b[0;32m    400\u001b[0m \u001b[38;5;66;03m# external renderers\u001b[39;00m\n",
            "\u001b[1;31mValueError\u001b[0m: Mime type rendering requires nbformat>=4.2.0 but it is not installed"
          ]
        }
      ],
      "source": [
        "fig = px.histogram(data, x=\"sentiment\",color=\"sentiment\")\n",
        "fig.update_layout(\n",
        "    title_text='Sentiment of reviews',\n",
        "    xaxis_title_text='Sentiment',\n",
        "    yaxis_title_text='Count',\n",
        "    bargap=0.2,\n",
        "    bargroupgap=0.1\n",
        ")\n",
        "fig.show()"
      ]
    }
  ],
  "metadata": {
    "colab": {
      "provenance": []
    },
    "kernelspec": {
      "display_name": "Python 3",
      "name": "python3"
    },
    "language_info": {
      "codemirror_mode": {
        "name": "ipython",
        "version": 3
      },
      "file_extension": ".py",
      "mimetype": "text/x-python",
      "name": "python",
      "nbconvert_exporter": "python",
      "pygments_lexer": "ipython3",
      "version": "3.12.0"
    }
  },
  "nbformat": 4,
  "nbformat_minor": 0
}
